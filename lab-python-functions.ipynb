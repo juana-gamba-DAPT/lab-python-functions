{
 "cells": [
  {
   "cell_type": "markdown",
   "id": "25d7736c-ba17-4aff-b6bb-66eba20fbf4e",
   "metadata": {},
   "source": [
    "# Lab | Functions"
   ]
  },
  {
   "cell_type": "markdown",
   "id": "0c581062-8967-4d93-b06e-62833222f930",
   "metadata": {
    "tags": []
   },
   "source": [
    "## Exercise: Managing Customer Orders with Functions\n",
    "\n",
    "In the previous exercise, you improved the code for managing customer orders by using loops and flow control. Now, let's take it a step further and refactor the code by introducing functions.\n",
    "\n",
    "Follow the steps below to complete the exercise:\n",
    "\n",
    "1. Define a function named `initialize_inventory` that takes `products` as a parameter. Inside the function, implement the code for initializing the inventory dictionary using a loop and user input.\n",
    "\n",
    "2. Define a function named `get_customer_orders` that takes no parameters. Inside the function, implement the code for prompting the user to enter the product names using a loop. The function should return the `customer_orders` set.\n",
    "\n",
    "3. Define a function named `update_inventory` that takes `customer_orders` and `inventory` as parameters. Inside the function, implement the code for updating the inventory dictionary based on the customer orders.\n",
    "\n",
    "4. Define a function named `calculate_order_statistics` that takes `customer_orders` and `products` as parameters. Inside the function, implement the code for calculating the order statistics (total products ordered, and percentage of unique products ordered). The function should return these values.\n",
    "\n",
    "5. Define a function named `print_order_statistics` that takes `order_statistics` as a parameter. Inside the function, implement the code for printing the order statistics.\n",
    "\n",
    "6. Define a function named `print_updated_inventory` that takes `inventory` as a parameter. Inside the function, implement the code for printing the updated inventory.\n",
    "\n",
    "7. Call the functions in the appropriate sequence to execute the program and manage customer orders.\n",
    "\n",
    "Hints for functions:\n",
    "\n",
    "- Consider the input parameters required for each function and their return values.\n",
    "- Utilize function parameters and return values to transfer data between functions.\n",
    "- Test your functions individually to ensure they work correctly.\n",
    "\n",
    "\n"
   ]
  },
  {
   "cell_type": "code",
   "execution_count": 7,
   "id": "a3907ea1",
   "metadata": {},
   "outputs": [
    {
     "name": "stdout",
     "output_type": "stream",
     "text": [
      "{'t-shirt': 2, 'mug': 2, 'hat': 2, 'book': 2, 'keychain': 2}\n"
     ]
    }
   ],
   "source": [
    "products=[\"t-shirt\", \"mug\", \"hat\", \"book\", \"keychain\"]\n",
    "inventory={}\n",
    "customer_orders=set()\n",
    "#1. Define a function named `initialize_inventory` that takes `products` as a parameter. \n",
    "#Inside the function, implement the code for initializing the inventory dictionary using a loop and user input.\n",
    "def initialize_inventory(products):\n",
    "    for product in products:\n",
    "        quantity=int(input(f\"insert the quantity of {product}: \"))\n",
    "        inventory[product]=quantity\n",
    "\n",
    "    return inventory\n",
    "\n",
    "inventory = initialize_inventory(products)\n",
    "print(inventory)\n"
   ]
  },
  {
   "cell_type": "code",
   "execution_count": 9,
   "id": "6643605e",
   "metadata": {},
   "outputs": [],
   "source": [
    "#2. Define a function named `get_customer_orders` that takes no parameters. Inside the function,\n",
    "# implement the code for prompting the user to enter the product names using a loop. The function should return the `customer_orders` set.\n",
    "def get_customer_orders():\n",
    "    customer_orders = set()\n",
    "    while True:\n",
    "        order = input(\"Enter a product to order: \").lower()\n",
    "        customer_orders.add(order)\n",
    "\n",
    "        more = input(\"Do you want to add another product? (yes/no): \").lower()\n",
    "        if more == \"no\":\n",
    "            break  \n",
    "\n",
    "    return customer_orders\n"
   ]
  },
  {
   "cell_type": "code",
   "execution_count": 10,
   "id": "c709af7a",
   "metadata": {},
   "outputs": [
    {
     "name": "stdout",
     "output_type": "stream",
     "text": [
      "{'book', 'hat'}\n"
     ]
    }
   ],
   "source": [
    "customer_orders=get_customer_orders()\n",
    "print(customer_orders)"
   ]
  },
  {
   "cell_type": "code",
   "execution_count": 11,
   "id": "b5d0d760",
   "metadata": {},
   "outputs": [
    {
     "name": "stdout",
     "output_type": "stream",
     "text": [
      "t-shirt: 2\n",
      "mug: 2\n",
      "hat: 1\n",
      "book: 1\n",
      "keychain: 2\n",
      "{'t-shirt': 2, 'mug': 2, 'hat': 1, 'book': 1, 'keychain': 2}\n"
     ]
    }
   ],
   "source": [
    "\n",
    "#3. Define a function named `update_inventory` that takes `customer_orders` and `inventory` as parameters. \n",
    "#Inside the function, implement the code for updating the inventory dictionary based on the customer orders.\n",
    "\n",
    "def update_inventory(customer_orders,inventory):\n",
    "\n",
    "    for product in customer_orders:\n",
    "        if product in inventory:\n",
    "            inventory[product] -=1\n",
    "        else:\n",
    "           print(\"try with an existent product\")\n",
    "\n",
    "    for product in inventory:\n",
    "        print(f\"{product}: {inventory[product]}\")\n",
    "    return inventory\n",
    "\n",
    "inventory=update_inventory(customer_orders,inventory)\n",
    "print(inventory)\n"
   ]
  },
  {
   "cell_type": "code",
   "execution_count": null,
   "id": "1d11b67f",
   "metadata": {},
   "outputs": [],
   "source": [
    "#4. Define a function named `calculate_order_statistics` that takes `customer_orders` and `products` as parameters.\n",
    "#  Inside the function, implement the code for calculating the order statistics \n",
    "# (total products ordered, and percentage of unique products ordered). The function should return these values.\n",
    "\n",
    "\n",
    "def calculate_order_statistics(customer_orders, products):\n",
    "    total_products_ordered = sum(products.get(product, 0) for product in customer_orders)  # Cuenta total de productos pedidos\n",
    "    unique_products_ordered = len(customer_orders)  # Distintos \n",
    "    total_products_available = len(products)  # productos en inventario\n",
    "    \n",
    "    percentage_ordered = (unique_products_ordered / total_products_available) * 100 if total_products_available > 0 else 0\n",
    "\n",
    "    return total_products_ordered, percentage_ordered  "
   ]
  },
  {
   "cell_type": "code",
   "execution_count": 14,
   "id": "d00e3c27",
   "metadata": {},
   "outputs": [
    {
     "name": "stdout",
     "output_type": "stream",
     "text": [
      "Total de productos pedidos: 2\n",
      "Porcentaje de productos únicos pedidos: 40.00%\n"
     ]
    }
   ],
   "source": [
    "total_products_ordered, percentage_ordered = calculate_order_statistics(customer_orders, inventory)\n",
    "\n",
    "print(f\"Total de productos pedidos: {total_products_ordered}\")\n",
    "print(f\"Porcentaje de productos únicos pedidos: {percentage_ordered:.2f}%\")"
   ]
  },
  {
   "cell_type": "code",
   "execution_count": 16,
   "id": "e0a4264e",
   "metadata": {},
   "outputs": [],
   "source": [
    "#5. Define a function named `print_order_statistics` that takes `order_statistics` as a parameter. \n",
    "#Inside the function, implement the code for printing the order statistics.\n",
    "\n",
    "def print_order_statistics(order_statistics):\n",
    "    total_products_ordered, percentage_ordered = order_statistics  \n",
    "\n",
    "    print(\"\\nOrder Statistics\")\n",
    "    print(f\"Total de productos pedidos: {total_products_ordered}\")\n",
    "    print(f\"Porcentaje de productos únicos pedidos: {percentage_ordered:.2f}%\")\n",
    "\n"
   ]
  },
  {
   "cell_type": "code",
   "execution_count": 17,
   "id": "6d1c3405",
   "metadata": {},
   "outputs": [
    {
     "name": "stdout",
     "output_type": "stream",
     "text": [
      "\n",
      "Order Statistics\n",
      "Total de productos pedidos: 2\n",
      "Porcentaje de productos únicos pedidos: 40.00%\n"
     ]
    }
   ],
   "source": [
    "order_statistics = calculate_order_statistics(customer_orders, inventory)\n",
    "print_order_statistics(order_statistics)"
   ]
  },
  {
   "cell_type": "code",
   "execution_count": 19,
   "id": "f0eff4ad",
   "metadata": {},
   "outputs": [],
   "source": [
    "#6. Define a function named `print_updated_inventory` that takes `inventory` as a parameter. \n",
    "#Inside the function, implement the code for printing the updated inventory.\n",
    "def print_updated_inventory(inventory):\n",
    "    \n",
    "    print(\"\\nUpdated Inventory \")\n",
    "    for item, quantity in inventory.items():\n",
    "        print(f\"{item}: {quantity} units\")\n",
    "\n",
    "    return inventory"
   ]
  },
  {
   "cell_type": "code",
   "execution_count": 20,
   "id": "4ab70395",
   "metadata": {},
   "outputs": [
    {
     "name": "stdout",
     "output_type": "stream",
     "text": [
      "{'t-shirt': 2, 'mug': 2, 'hat': 1, 'book': 1, 'keychain': 2}\n"
     ]
    }
   ],
   "source": [
    "print_updated_inventory=inventory\n",
    "print(inventory)"
   ]
  }
 ],
 "metadata": {
  "kernelspec": {
   "display_name": "venv",
   "language": "python",
   "name": "python3"
  },
  "language_info": {
   "codemirror_mode": {
    "name": "ipython",
    "version": 3
   },
   "file_extension": ".py",
   "mimetype": "text/x-python",
   "name": "python",
   "nbconvert_exporter": "python",
   "pygments_lexer": "ipython3",
   "version": "3.12.9"
  }
 },
 "nbformat": 4,
 "nbformat_minor": 5
}
